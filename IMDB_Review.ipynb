{
  "nbformat": 4,
  "nbformat_minor": 0,
  "metadata": {
    "colab": {
      "name": "IMDB_Review.ipynb",
      "provenance": [],
      "collapsed_sections": [],
      "toc_visible": true,
      "include_colab_link": true
    },
    "kernelspec": {
      "display_name": "Python 3",
      "language": "python",
      "name": "python3"
    },
    "language_info": {
      "codemirror_mode": {
        "name": "ipython",
        "version": 3
      },
      "file_extension": ".py",
      "mimetype": "text/x-python",
      "name": "python",
      "nbconvert_exporter": "python",
      "pygments_lexer": "ipython3",
      "version": "3.7.7"
    },
    "accelerator": "GPU"
  },
  "cells": [
    {
      "cell_type": "markdown",
      "metadata": {
        "id": "view-in-github",
        "colab_type": "text"
      },
      "source": [
        "<a href=\"https://colab.research.google.com/github/sasireddyvari/IMDB_Sentiment_Analysis/blob/master/IMDB_Review.ipynb\" target=\"_parent\"><img src=\"https://colab.research.google.com/assets/colab-badge.svg\" alt=\"Open In Colab\"/></a>"
      ]
    },
    {
      "cell_type": "markdown",
      "metadata": {
        "id": "tB1t9fTwWgQG"
      },
      "source": [
        "# Library"
      ]
    },
    {
      "cell_type": "code",
      "metadata": {
        "id": "lqUfwgb7WgQN",
        "colab": {
          "base_uri": "https://localhost:8080/"
        },
        "outputId": "1907f43d-afda-41a0-d24e-b18183b0ce5d"
      },
      "source": [
        "import os\n",
        "import pandas as pd\n",
        "import seaborn as sns\n",
        "import numpy as np\n",
        "import re\n",
        "import nltk\n",
        "nltk.download('stopwords')\n",
        "from nltk.corpus import stopwords\n",
        "from nltk.stem.porter import PorterStemmer\n",
        "from sklearn.pipeline import Pipeline\n",
        "from sklearn.feature_extraction.text import CountVectorizer,TfidfVectorizer,TfidfTransformer\n",
        "from sklearn.naive_bayes import MultinomialNB"
      ],
      "execution_count": 16,
      "outputs": [
        {
          "output_type": "stream",
          "text": [
            "[nltk_data] Downloading package stopwords to /root/nltk_data...\n",
            "[nltk_data]   Package stopwords is already up-to-date!\n"
          ],
          "name": "stdout"
        }
      ]
    },
    {
      "cell_type": "markdown",
      "metadata": {
        "id": "U-8bOaNeWgQP"
      },
      "source": [
        "# Load Data"
      ]
    },
    {
      "cell_type": "code",
      "metadata": {
        "id": "G_uMPvTRWgQR"
      },
      "source": [
        "train = pd.read_csv('/content/drive/MyDrive/Colab Notebooks/Projects/IMDb_Movie_Review_Sentiment_Analysis_ML/IMDb-Movie-Review-Sentiment-Analysis-ML-main/train/train.csv')"
      ],
      "execution_count": 3,
      "outputs": []
    },
    {
      "cell_type": "code",
      "metadata": {
        "id": "OVJa3rXfWgQR"
      },
      "source": [
        "#train = train.sample(frac = 1)"
      ],
      "execution_count": 4,
      "outputs": []
    },
    {
      "cell_type": "code",
      "metadata": {
        "id": "TxzAYlyHWgQS"
      },
      "source": [
        "#train = train.head(15000)"
      ],
      "execution_count": 5,
      "outputs": []
    },
    {
      "cell_type": "code",
      "metadata": {
        "colab": {
          "base_uri": "https://localhost:8080/",
          "height": 204
        },
        "id": "-p-pmeFztlBl",
        "outputId": "53a05755-dcba-4f2e-fc1f-7ff6a9412591"
      },
      "source": [
        "train.head()"
      ],
      "execution_count": 6,
      "outputs": [
        {
          "output_type": "execute_result",
          "data": {
            "text/html": [
              "<div>\n",
              "<style scoped>\n",
              "    .dataframe tbody tr th:only-of-type {\n",
              "        vertical-align: middle;\n",
              "    }\n",
              "\n",
              "    .dataframe tbody tr th {\n",
              "        vertical-align: top;\n",
              "    }\n",
              "\n",
              "    .dataframe thead th {\n",
              "        text-align: right;\n",
              "    }\n",
              "</style>\n",
              "<table border=\"1\" class=\"dataframe\">\n",
              "  <thead>\n",
              "    <tr style=\"text-align: right;\">\n",
              "      <th></th>\n",
              "      <th>label</th>\n",
              "      <th>reviews</th>\n",
              "    </tr>\n",
              "  </thead>\n",
              "  <tbody>\n",
              "    <tr>\n",
              "      <th>0</th>\n",
              "      <td>0</td>\n",
              "      <td>Universal's answer to \"The Exorcist\" isn't a v...</td>\n",
              "    </tr>\n",
              "    <tr>\n",
              "      <th>1</th>\n",
              "      <td>0</td>\n",
              "      <td>The Tooth Fairy is set in a small town somewhe...</td>\n",
              "    </tr>\n",
              "    <tr>\n",
              "      <th>2</th>\n",
              "      <td>1</td>\n",
              "      <td>I saw this movie with my dad. I must have been...</td>\n",
              "    </tr>\n",
              "    <tr>\n",
              "      <th>3</th>\n",
              "      <td>0</td>\n",
              "      <td>Bridges of madison county is a better made ver...</td>\n",
              "    </tr>\n",
              "    <tr>\n",
              "      <th>4</th>\n",
              "      <td>1</td>\n",
              "      <td>That is no criticism of the film, but rather a...</td>\n",
              "    </tr>\n",
              "  </tbody>\n",
              "</table>\n",
              "</div>"
            ],
            "text/plain": [
              "   label                                            reviews\n",
              "0      0  Universal's answer to \"The Exorcist\" isn't a v...\n",
              "1      0  The Tooth Fairy is set in a small town somewhe...\n",
              "2      1  I saw this movie with my dad. I must have been...\n",
              "3      0  Bridges of madison county is a better made ver...\n",
              "4      1  That is no criticism of the film, but rather a..."
            ]
          },
          "metadata": {
            "tags": []
          },
          "execution_count": 6
        }
      ]
    },
    {
      "cell_type": "code",
      "metadata": {
        "colab": {
          "base_uri": "https://localhost:8080/",
          "height": 204
        },
        "id": "WJqRnkmLWgQS",
        "outputId": "abd2aec3-4122-42ef-8458-2c8aa38ddef6"
      },
      "source": [
        "train = train[['reviews', 'label']]\n",
        "train.head()"
      ],
      "execution_count": 7,
      "outputs": [
        {
          "output_type": "execute_result",
          "data": {
            "text/html": [
              "<div>\n",
              "<style scoped>\n",
              "    .dataframe tbody tr th:only-of-type {\n",
              "        vertical-align: middle;\n",
              "    }\n",
              "\n",
              "    .dataframe tbody tr th {\n",
              "        vertical-align: top;\n",
              "    }\n",
              "\n",
              "    .dataframe thead th {\n",
              "        text-align: right;\n",
              "    }\n",
              "</style>\n",
              "<table border=\"1\" class=\"dataframe\">\n",
              "  <thead>\n",
              "    <tr style=\"text-align: right;\">\n",
              "      <th></th>\n",
              "      <th>reviews</th>\n",
              "      <th>label</th>\n",
              "    </tr>\n",
              "  </thead>\n",
              "  <tbody>\n",
              "    <tr>\n",
              "      <th>0</th>\n",
              "      <td>Universal's answer to \"The Exorcist\" isn't a v...</td>\n",
              "      <td>0</td>\n",
              "    </tr>\n",
              "    <tr>\n",
              "      <th>1</th>\n",
              "      <td>The Tooth Fairy is set in a small town somewhe...</td>\n",
              "      <td>0</td>\n",
              "    </tr>\n",
              "    <tr>\n",
              "      <th>2</th>\n",
              "      <td>I saw this movie with my dad. I must have been...</td>\n",
              "      <td>1</td>\n",
              "    </tr>\n",
              "    <tr>\n",
              "      <th>3</th>\n",
              "      <td>Bridges of madison county is a better made ver...</td>\n",
              "      <td>0</td>\n",
              "    </tr>\n",
              "    <tr>\n",
              "      <th>4</th>\n",
              "      <td>That is no criticism of the film, but rather a...</td>\n",
              "      <td>1</td>\n",
              "    </tr>\n",
              "  </tbody>\n",
              "</table>\n",
              "</div>"
            ],
            "text/plain": [
              "                                             reviews  label\n",
              "0  Universal's answer to \"The Exorcist\" isn't a v...      0\n",
              "1  The Tooth Fairy is set in a small town somewhe...      0\n",
              "2  I saw this movie with my dad. I must have been...      1\n",
              "3  Bridges of madison county is a better made ver...      0\n",
              "4  That is no criticism of the film, but rather a...      1"
            ]
          },
          "metadata": {
            "tags": []
          },
          "execution_count": 7
        }
      ]
    },
    {
      "cell_type": "code",
      "metadata": {
        "colab": {
          "base_uri": "https://localhost:8080/",
          "height": 296
        },
        "id": "8eFpg3hWWgQT",
        "outputId": "32cb0891-08c6-4157-9282-ab609496dbd9"
      },
      "source": [
        "sns.countplot(data=train, x='label')"
      ],
      "execution_count": 8,
      "outputs": [
        {
          "output_type": "execute_result",
          "data": {
            "text/plain": [
              "<matplotlib.axes._subplots.AxesSubplot at 0x7f163cdd3c18>"
            ]
          },
          "metadata": {
            "tags": []
          },
          "execution_count": 8
        },
        {
          "output_type": "display_data",
          "data": {
            "image/png": "[encoded data removed]",
            "text/plain": [
              "<Figure size 432x288 with 1 Axes>"
            ]
          },
          "metadata": {
            "tags": [],
            "needs_background": "light"
          }
        }
      ]
    },
    {
      "cell_type": "code",
      "metadata": {
        "id": "YpxQ2r3sWgQT"
      },
      "source": [
        "corpus = []\n",
        "for i in range(0, len(train)):\n",
        "  review = re.sub('[^a-zA-Z]', ' ', train['reviews'][i])\n",
        "  review = review.lower()\n",
        "  review = review.split()\n",
        "  ps = PorterStemmer()\n",
        "  all_stopwords = stopwords.words('english')\n",
        "  all_stopwords.remove('not')\n",
        "  review = [ps.stem(word) for word in review if not word in set(all_stopwords)]\n",
        "  review = ' '.join(review)\n",
        "  corpus.append(review)"
      ],
      "execution_count": 9,
      "outputs": []
    },
    {
      "cell_type": "code",
      "metadata": {
        "id": "P7--24z2vr-b"
      },
      "source": [
        "#corpus"
      ],
      "execution_count": 10,
      "outputs": []
    },
    {
      "cell_type": "code",
      "metadata": {
        "colab": {
          "base_uri": "https://localhost:8080/"
        },
        "id": "7cz_PVna0lBh",
        "outputId": "7ef75c5c-bff8-4f0e-cd15-a75b7e5c43ca"
      },
      "source": [
        "pd.Series(corpus).shape"
      ],
      "execution_count": 11,
      "outputs": [
        {
          "output_type": "execute_result",
          "data": {
            "text/plain": [
              "(25000,)"
            ]
          },
          "metadata": {
            "tags": []
          },
          "execution_count": 11
        }
      ]
    },
    {
      "cell_type": "code",
      "metadata": {
        "id": "aPCWPmSKy1tI"
      },
      "source": [
        "data=pd.concat([train, pd.Series(corpus)], axis=1,ignore_index=True)\r\n",
        "data.columns = ['reviews', 'label','corpus']"
      ],
      "execution_count": 12,
      "outputs": []
    },
    {
      "cell_type": "code",
      "metadata": {
        "id": "QS9Hf1rNzky2"
      },
      "source": [
        "x=data['corpus']\r\n",
        "y=data['label']"
      ],
      "execution_count": 13,
      "outputs": []
    },
    {
      "cell_type": "code",
      "metadata": {
        "id": "VoVQvbRlWgQT"
      },
      "source": [
        "# from sklearn.feature_extraction.text import CountVectorizer\n",
        "# cv = CountVectorizer(max_features = 500)\n",
        "# x = cv.fit_transform(corpus).toarray()\n",
        "# y = train.iloc[:, -1].values"
      ],
      "execution_count": 14,
      "outputs": []
    },
    {
      "cell_type": "code",
      "metadata": {
        "id": "gXptw9_cv5Om"
      },
      "source": [
        "from sklearn.pipeline import Pipeline\r\n",
        "imdb_clf = Pipeline([('vect', CountVectorizer()),\r\n",
        "                     ('tfidf', TfidfTransformer()),\r\n",
        "                     ('clf', MultinomialNB()),\r\n",
        "                    ])"
      ],
      "execution_count": 17,
      "outputs": []
    },
    {
      "cell_type": "code",
      "metadata": {
        "id": "igqh1STPWgQU"
      },
      "source": [
        "# from sklearn.feature_extraction.text import TfidfVectorizer\n",
        "# cv = TfidfVectorizer()\n",
        "# X = cv.fit_transform(corpus).toarray()\n",
        "# y = train.iloc[:, -1].values"
      ],
      "execution_count": 60,
      "outputs": []
    },
    {
      "cell_type": "code",
      "metadata": {
        "id": "_WdIaTLRWgQU"
      },
      "source": [
        "from sklearn.model_selection import train_test_split\n",
        "X_train, X_test, y_train, y_test = train_test_split(x, y, test_size = 0.20, random_state = 1)"
      ],
      "execution_count": 18,
      "outputs": []
    },
    {
      "cell_type": "code",
      "metadata": {
        "colab": {
          "base_uri": "https://localhost:8080/"
        },
        "id": "Eodl__IfWgQV",
        "outputId": "76c9bd76-55fc-48f1-b9e9-51ae8eac4ebd"
      },
      "source": [
        "imdb_clf.fit(X_train, y_train)"
      ],
      "execution_count": 19,
      "outputs": [
        {
          "output_type": "execute_result",
          "data": {
            "text/plain": [
              "Pipeline(memory=None,\n",
              "         steps=[('vect',\n",
              "                 CountVectorizer(analyzer='word', binary=False,\n",
              "                                 decode_error='strict',\n",
              "                                 dtype=<class 'numpy.int64'>, encoding='utf-8',\n",
              "                                 input='content', lowercase=True, max_df=1.0,\n",
              "                                 max_features=None, min_df=1,\n",
              "                                 ngram_range=(1, 1), preprocessor=None,\n",
              "                                 stop_words=None, strip_accents=None,\n",
              "                                 token_pattern='(?u)\\\\b\\\\w\\\\w+\\\\b',\n",
              "                                 tokenizer=None, vocabulary=None)),\n",
              "                ('tfidf',\n",
              "                 TfidfTransformer(norm='l2', smooth_idf=True,\n",
              "                                  sublinear_tf=False, use_idf=True)),\n",
              "                ('clf',\n",
              "                 MultinomialNB(alpha=1.0, class_prior=None, fit_prior=True))],\n",
              "         verbose=False)"
            ]
          },
          "metadata": {
            "tags": []
          },
          "execution_count": 19
        }
      ]
    },
    {
      "cell_type": "code",
      "metadata": {
        "id": "WVHJojsrWgQV"
      },
      "source": [
        "y_pred = imdb_clf.predict(X_test)\n",
        "#print(np.concatenate((y_pred.reshape(len(y_pred),1), y_test.reshape(len(y_test),1)),1))"
      ],
      "execution_count": 20,
      "outputs": []
    },
    {
      "cell_type": "code",
      "metadata": {
        "colab": {
          "base_uri": "https://localhost:8080/"
        },
        "id": "05tBApqUWgQV",
        "outputId": "ac7038c3-78d7-400d-8e40-06e4a1c00036"
      },
      "source": [
        "from sklearn.metrics import confusion_matrix, accuracy_score\n",
        "cm = confusion_matrix(y_test, y_pred)\n",
        "print(cm)\n",
        "accuracy_score(y_test, y_pred)"
      ],
      "execution_count": 21,
      "outputs": [
        {
          "output_type": "stream",
          "text": [
            "[[2143  352]\n",
            " [ 325 2180]]\n"
          ],
          "name": "stdout"
        },
        {
          "output_type": "execute_result",
          "data": {
            "text/plain": [
              "0.8646"
            ]
          },
          "metadata": {
            "tags": []
          },
          "execution_count": 21
        }
      ]
    },
    {
      "cell_type": "code",
      "metadata": {
        "colab": {
          "base_uri": "https://localhost:8080/"
        },
        "id": "O0M148KhWgQV",
        "outputId": "ab359736-ebe9-4d62-ddec-27833164f9fa"
      },
      "source": [
        "# test = [\"I don't understand why the notes are so low. It's been months since I've seen a film so powerful, so fine, so right. As much in the subject matter as in the acting. A film about life, real life. Its violence and beauty. To what extent children are the wealth of this world. An ode to life. Poignant.\"]\n",
        "# test_vec = cv.transform(test).toarray()\n",
        "# classifier.predict(test_vec)"
      ],
      "execution_count": 35,
      "outputs": [
        {
          "output_type": "execute_result",
          "data": {
            "text/plain": [
              "array([1])"
            ]
          },
          "metadata": {
            "tags": []
          },
          "execution_count": 35
        }
      ]
    },
    {
      "cell_type": "markdown",
      "metadata": {
        "id": "V84Yp6iKWgQW"
      },
      "source": [
        "# Saving Model"
      ]
    },
    {
      "cell_type": "code",
      "metadata": {
        "id": "KxRfJvqQ1YEV"
      },
      "source": [
        "import pickle"
      ],
      "execution_count": 22,
      "outputs": []
    },
    {
      "cell_type": "code",
      "metadata": {
        "id": "FyFU6kFHWgQW"
      },
      "source": [
        "pkl_filename = \"/content/drive/MyDrive/Colab Notebooks/Projects/IMDb_Movie_Review_Sentiment_Analysis_ML/IMDb-Movie-Review-Sentiment-Analysis-ML-main/Imdb_Model.pkl\"\n",
        "with open(pkl_filename, 'wb') as file:\n",
        "    pickle.dump(imdb_clf, file)"
      ],
      "execution_count": 24,
      "outputs": []
    },
    {
      "cell_type": "code",
      "metadata": {
        "id": "GhhSbuw223E_"
      },
      "source": [
        "file = open('/content/drive/MyDrive/Colab Notebooks/Projects/IMDb_Movie_Review_Sentiment_Analysis_ML/IMDb-Movie-Review-Sentiment-Analysis-ML-main/Imdb_Model.pkl', 'rb')\r\n",
        "imdb_model = pickle.load(file)\r\n",
        "file.close()"
      ],
      "execution_count": 26,
      "outputs": []
    },
    {
      "cell_type": "code",
      "metadata": {
        "id": "v8VZUE-_WgQW",
        "colab": {
          "base_uri": "https://localhost:8080/"
        },
        "outputId": "e05ad6fd-e304-4f22-a4d9-5d4623c4e64c"
      },
      "source": [
        "text=input(\"Enter the text:\")\r\n",
        "final_text=text.lower()\r\n",
        "# import re\r\n",
        "# rx = re.compile('([\\',\"\".])')\r\n",
        "# final_text=rx.sub(\"\",final_text)\r\n",
        "final_text=final_text.split('.')\r\n",
        "output=imdb_model.predict(final_text)"
      ],
      "execution_count": 61,
      "outputs": [
        {
          "output_type": "stream",
          "text": [
            "Enter the text:Movie is very goiod\n"
          ],
          "name": "stdout"
        }
      ]
    },
    {
      "cell_type": "code",
      "metadata": {
        "id": "P9sPvI1BWgQX",
        "colab": {
          "base_uri": "https://localhost:8080/"
        },
        "outputId": "1e4ba54f-e335-4e7d-e0dc-994be9858106"
      },
      "source": [
        "if output[0] ==0:\r\n",
        "  print('Negative Review')\r\n",
        "else:\r\n",
        "  print('Positive Review')"
      ],
      "execution_count": 62,
      "outputs": [
        {
          "output_type": "stream",
          "text": [
            "Negative Review\n"
          ],
          "name": "stdout"
        }
      ]
    },
    {
      "cell_type": "code",
      "metadata": {
        "colab": {
          "base_uri": "https://localhost:8080/"
        },
        "id": "EzKzjFnV3ypD",
        "outputId": "7f00b824-6184-4dd5-c0e3-e8efbd53a4a0"
      },
      "source": [
        "text=input()"
      ],
      "execution_count": 33,
      "outputs": [
        {
          "output_type": "stream",
          "text": [
            "Universal's answer to \"The Exorcist\" isn't a very good one. Unfortunately, the film offers bland, unimaginative direction from Michael Winner who wastes an outstanding cast \n"
          ],
          "name": "stdout"
        }
      ]
    },
    {
      "cell_type": "code",
      "metadata": {
        "colab": {
          "base_uri": "https://localhost:8080/",
          "height": 52
        },
        "id": "s6RQvOZ94U6-",
        "outputId": "88409c07-1fbe-4dc8-c831-07704ff8ba58"
      },
      "source": [
        "text.lower()"
      ],
      "execution_count": 34,
      "outputs": [
        {
          "output_type": "execute_result",
          "data": {
            "application/vnd.google.colaboratory.intrinsic+json": {
              "type": "string"
            },
            "text/plain": [
              "'universal\\'s answer to \"the exorcist\" isn\\'t a very good one. unfortunately, the film offers bland, unimaginative direction from michael winner who wastes an outstanding cast '"
            ]
          },
          "metadata": {
            "tags": []
          },
          "execution_count": 34
        }
      ]
    },
    {
      "cell_type": "code",
      "metadata": {
        "colab": {
          "base_uri": "https://localhost:8080/",
          "height": 52
        },
        "id": "NGOiUgjK5GIG",
        "outputId": "82e7b56a-2f90-434d-cb75-bf306a7e592c"
      },
      "source": [
        ""
      ],
      "execution_count": 53,
      "outputs": [
        {
          "output_type": "execute_result",
          "data": {
            "application/vnd.google.colaboratory.intrinsic+json": {
              "type": "string"
            },
            "text/plain": [
              "'Universals answer to The Exorcist isnt a very good one Unfortunately the film offers bland unimaginative direction from Michael Winner who wastes an outstanding cast '"
            ]
          },
          "metadata": {
            "tags": []
          },
          "execution_count": 53
        }
      ]
    },
    {
      "cell_type": "code",
      "metadata": {
        "colab": {
          "base_uri": "https://localhost:8080/",
          "height": 52
        },
        "id": "nXFenKMZ4c-q",
        "outputId": "c0311831-8c9c-4423-d475-dd32502c03a1"
      },
      "source": [
        ""
      ],
      "execution_count": 52,
      "outputs": [
        {
          "output_type": "execute_result",
          "data": {
            "application/vnd.google.colaboratory.intrinsic+json": {
              "type": "string"
            },
            "text/plain": [
              "'Universals answer to The Exorcist isnt a very good one Unfortunately the film offers bland unimaginative direction from Michael Winner who wastes an outstanding cast '"
            ]
          },
          "metadata": {
            "tags": []
          },
          "execution_count": 52
        }
      ]
    },
    {
      "cell_type": "code",
      "metadata": {
        "id": "AADxRBzJ4j-r"
      },
      "source": [
        ""
      ],
      "execution_count": null,
      "outputs": []
    }
  ]
}